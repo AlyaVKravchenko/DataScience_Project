{
  "cells": [
    {
      "cell_type": "code",
      "execution_count": 2,
      "id": "ef411736-b501-4fa4-8a89-f2513a9825f7",
      "metadata": {
        "id": "ef411736-b501-4fa4-8a89-f2513a9825f7"
      },
      "outputs": [],
      "source": [
        "import pandas as pd\n",
        "import numpy as np\n",
        "import matplotlib.pyplot as plt"
      ]
    },
    {
      "cell_type": "code",
      "execution_count": 3,
      "id": "50d76890-f974-4869-ab35-749a1bcfbcec",
      "metadata": {
        "colab": {
          "base_uri": "https://localhost:8080/"
        },
        "id": "50d76890-f974-4869-ab35-749a1bcfbcec",
        "outputId": "b296927d-60ca-4d8d-86f5-9080ef95bb0d"
      },
      "outputs": [
        {
          "output_type": "stream",
          "name": "stdout",
          "text": [
            "Num GPUs Available:  1\n"
          ]
        }
      ],
      "source": [
        "import tensorflow as tf\n",
        "\n",
        "print(\"Num GPUs Available: \", len(tf.config.list_physical_devices('GPU')))"
      ]
    },
    {
      "cell_type": "code",
      "execution_count": 4,
      "id": "d2f0c064-6858-4aee-9a5b-29a5ad34a8cf",
      "metadata": {
        "colab": {
          "base_uri": "https://localhost:8080/"
        },
        "id": "d2f0c064-6858-4aee-9a5b-29a5ad34a8cf",
        "outputId": "8358a880-b0ce-47b7-b40e-dd6cd3a529af"
      },
      "outputs": [
        {
          "output_type": "stream",
          "name": "stdout",
          "text": [
            "Downloading data from https://www.cs.toronto.edu/~kriz/cifar-10-python.tar.gz\n",
            "170498071/170498071 [==============================] - 13s 0us/step\n"
          ]
        }
      ],
      "source": [
        "from keras.datasets import cifar10\n",
        "(X_train, y_train), (X_test, y_test) = cifar10.load_data()"
      ]
    },
    {
      "cell_type": "code",
      "execution_count": 5,
      "id": "ef051def-2b76-4819-aed9-39c7fe659786",
      "metadata": {
        "colab": {
          "base_uri": "https://localhost:8080/"
        },
        "id": "ef051def-2b76-4819-aed9-39c7fe659786",
        "outputId": "fe23b776-ccfe-4779-a2cf-4fd4d40f3ef9"
      },
      "outputs": [
        {
          "output_type": "stream",
          "name": "stdout",
          "text": [
            "Shape of the Dataset\n",
            "==================================\n",
            "X_train Shape: (50000, 32, 32, 3)\n",
            "-------------------------------------\n",
            "X_test Shape: (10000, 32, 32, 3)\n",
            "-------------------------------------\n",
            "Y_train Shape: (50000, 1)\n",
            "-------------------------------------\n",
            "Y_test Shape: (10000, 1)\n"
          ]
        }
      ],
      "source": [
        "print('Shape of the Dataset')\n",
        "print('==================================')\n",
        "print(f'X_train Shape: {X_train.shape}')\n",
        "print('-------------------------------------')\n",
        "print(f'X_test Shape: {X_test.shape}')\n",
        "print('-------------------------------------')\n",
        "print(f'Y_train Shape: {y_train.shape}')\n",
        "print('-------------------------------------')\n",
        "print(f'Y_test Shape: {y_test.shape}')"
      ]
    },
    {
      "cell_type": "code",
      "execution_count": 6,
      "id": "f3f6de6a-7681-41e3-8c48-fe4a69e2f791",
      "metadata": {
        "id": "f3f6de6a-7681-41e3-8c48-fe4a69e2f791"
      },
      "outputs": [],
      "source": [
        "from keras.applications.resnet50 import preprocess_input\n",
        "\n",
        "def preprocess_image_input(input_images):\n",
        "  input_images = input_images.astype('float32')\n",
        "  output_images = preprocess_input(input_images)\n",
        "  return output_images\n",
        "\n",
        "X_train_prep = preprocess_image_input(X_train)\n",
        "X_test_prep = preprocess_image_input(X_test)"
      ]
    },
    {
      "cell_type": "code",
      "execution_count": 7,
      "id": "3a2b016d-6c1f-4a2f-a7ce-184cc4f1df78",
      "metadata": {
        "colab": {
          "base_uri": "https://localhost:8080/"
        },
        "id": "3a2b016d-6c1f-4a2f-a7ce-184cc4f1df78",
        "outputId": "3a7d59c7-0019-4e29-a07b-c65492c02039"
      },
      "outputs": [
        {
          "output_type": "stream",
          "name": "stdout",
          "text": [
            "Downloading data from https://storage.googleapis.com/tensorflow/keras-applications/resnet/resnet50_weights_tf_dim_ordering_tf_kernels_notop.h5\n",
            "94765736/94765736 [==============================] - 5s 0us/step\n",
            "Model: \"model\"\n",
            "_________________________________________________________________\n",
            " Layer (type)                Output Shape              Param #   \n",
            "=================================================================\n",
            " input_1 (InputLayer)        [(None, 32, 32, 3)]       0         \n",
            "                                                                 \n",
            " up_sampling2d (UpSampling2  (None, 224, 224, 3)       0         \n",
            " D)                                                              \n",
            "                                                                 \n",
            " resnet50 (Functional)       (None, 7, 7, 2048)        23587712  \n",
            "                                                                 \n",
            " global_average_pooling2d (  (None, 2048)              0         \n",
            " GlobalAveragePooling2D)                                         \n",
            "                                                                 \n",
            " flatten (Flatten)           (None, 2048)              0         \n",
            "                                                                 \n",
            " dense (Dense)               (None, 1024)              2098176   \n",
            "                                                                 \n",
            " dense_1 (Dense)             (None, 512)               524800    \n",
            "                                                                 \n",
            " dense_2 (Dense)             (None, 10)                5130      \n",
            "                                                                 \n",
            "=================================================================\n",
            "Total params: 26215818 (100.01 MB)\n",
            "Trainable params: 26162698 (99.80 MB)\n",
            "Non-trainable params: 53120 (207.50 KB)\n",
            "_________________________________________________________________\n"
          ]
        }
      ],
      "source": [
        "from keras.applications.resnet import ResNet50\n",
        "from keras.layers import GlobalAveragePooling2D, Flatten, Dense, UpSampling2D, Input\n",
        "from keras import Model\n",
        "\n",
        "def feature_extractor(inputs):\n",
        "\n",
        "  feature_extractor = ResNet50(input_shape=(224, 224, 3), include_top=False, weights='imagenet')(inputs)\n",
        "\n",
        "  return feature_extractor\n",
        "\n",
        "def classifier(inputs):\n",
        "    x = GlobalAveragePooling2D()(inputs)\n",
        "    x = Flatten()(x)\n",
        "    x = Dense(1024, activation=\"relu\")(x)\n",
        "    x = Dense(512, activation=\"relu\")(x)\n",
        "    x = Dense(10, activation=\"softmax\")(x)\n",
        "    return x\n",
        "\n",
        "def final_model(inputs):\n",
        "\n",
        "    resize = UpSampling2D(size=(7,7))(inputs)\n",
        "\n",
        "    resnet_feature_extractor = feature_extractor(resize)\n",
        "    classification_output = classifier(resnet_feature_extractor)\n",
        "\n",
        "    return classification_output\n",
        "\n",
        "def define_compile_model():\n",
        "  inputs = Input(shape=(32, 32, 3))\n",
        "\n",
        "  classification_output = final_model(inputs)\n",
        "  model = Model(inputs=inputs, outputs = classification_output)\n",
        "\n",
        "  model.compile(optimizer='SGD',\n",
        "                loss='sparse_categorical_crossentropy',\n",
        "                metrics = ['accuracy'])\n",
        "\n",
        "  return model\n",
        "\n",
        "\n",
        "model = define_compile_model()\n",
        "\n",
        "model.summary()"
      ]
    },
    {
      "cell_type": "code",
      "execution_count": 8,
      "id": "da96c215-0ba0-449f-81f1-fd26efbfd844",
      "metadata": {
        "colab": {
          "base_uri": "https://localhost:8080/"
        },
        "id": "da96c215-0ba0-449f-81f1-fd26efbfd844",
        "outputId": "df6fadcc-ec7d-40a0-97fe-1471d37acd48"
      },
      "outputs": [
        {
          "output_type": "stream",
          "name": "stdout",
          "text": [
            "Epoch 1/4\n",
            "782/782 [==============================] - 614s 751ms/step - loss: 0.4028 - accuracy: 0.8686 - val_loss: 0.2462 - val_accuracy: 0.9177\n",
            "Epoch 2/4\n",
            "782/782 [==============================] - 584s 747ms/step - loss: 0.1005 - accuracy: 0.9673 - val_loss: 0.1768 - val_accuracy: 0.9416\n",
            "Epoch 3/4\n",
            "782/782 [==============================] - 584s 747ms/step - loss: 0.0328 - accuracy: 0.9908 - val_loss: 0.1919 - val_accuracy: 0.9411\n",
            "Epoch 4/4\n",
            "782/782 [==============================] - 574s 734ms/step - loss: 0.0136 - accuracy: 0.9969 - val_loss: 0.1663 - val_accuracy: 0.9524\n"
          ]
        }
      ],
      "source": [
        "EPOCHS = 4\n",
        "history = model.fit(X_train_prep, y_train, epochs=EPOCHS, validation_data = (X_test_prep, y_test), batch_size=64)"
      ]
    },
    {
      "cell_type": "code",
      "execution_count": 9,
      "id": "493080ad-7229-4e7d-8a29-0b68b074f335",
      "metadata": {
        "colab": {
          "base_uri": "https://localhost:8080/"
        },
        "id": "493080ad-7229-4e7d-8a29-0b68b074f335",
        "outputId": "2ddde3a9-eeda-467e-f5e2-fa6bf4aa910c"
      },
      "outputs": [
        {
          "output_type": "stream",
          "name": "stdout",
          "text": [
            "157/157 [==============================] - 31s 198ms/step - loss: 0.1663 - accuracy: 0.9524\n",
            "Accuracy: 0.9524000287055969\n"
          ]
        }
      ],
      "source": [
        "test_loss, test_acc = model.evaluate(X_test_prep, y_test, batch_size=64)\n",
        "print(f'Accuracy: {test_acc}')"
      ]
    },
    {
      "cell_type": "code",
      "execution_count": 10,
      "id": "e776317c-dbf7-4bc8-9964-de8897e72e9a",
      "metadata": {
        "id": "e776317c-dbf7-4bc8-9964-de8897e72e9a"
      },
      "outputs": [],
      "source": [
        "model.save('ResNet50_model.keras')"
      ]
    },
    {
      "cell_type": "code",
      "source": [
        "from google.colab import files\n",
        "\n",
        "files.download('ResNet50_model.keras')"
      ],
      "metadata": {
        "colab": {
          "base_uri": "https://localhost:8080/",
          "height": 17
        },
        "id": "XXyoi6J_mQk1",
        "outputId": "19aa39cc-0810-43db-a8cb-92d9faffa1de"
      },
      "id": "XXyoi6J_mQk1",
      "execution_count": 11,
      "outputs": [
        {
          "output_type": "display_data",
          "data": {
            "text/plain": [
              "<IPython.core.display.Javascript object>"
            ],
            "application/javascript": [
              "\n",
              "    async function download(id, filename, size) {\n",
              "      if (!google.colab.kernel.accessAllowed) {\n",
              "        return;\n",
              "      }\n",
              "      const div = document.createElement('div');\n",
              "      const label = document.createElement('label');\n",
              "      label.textContent = `Downloading \"${filename}\": `;\n",
              "      div.appendChild(label);\n",
              "      const progress = document.createElement('progress');\n",
              "      progress.max = size;\n",
              "      div.appendChild(progress);\n",
              "      document.body.appendChild(div);\n",
              "\n",
              "      const buffers = [];\n",
              "      let downloaded = 0;\n",
              "\n",
              "      const channel = await google.colab.kernel.comms.open(id);\n",
              "      // Send a message to notify the kernel that we're ready.\n",
              "      channel.send({})\n",
              "\n",
              "      for await (const message of channel.messages) {\n",
              "        // Send a message to notify the kernel that we're ready.\n",
              "        channel.send({})\n",
              "        if (message.buffers) {\n",
              "          for (const buffer of message.buffers) {\n",
              "            buffers.push(buffer);\n",
              "            downloaded += buffer.byteLength;\n",
              "            progress.value = downloaded;\n",
              "          }\n",
              "        }\n",
              "      }\n",
              "      const blob = new Blob(buffers, {type: 'application/binary'});\n",
              "      const a = document.createElement('a');\n",
              "      a.href = window.URL.createObjectURL(blob);\n",
              "      a.download = filename;\n",
              "      div.appendChild(a);\n",
              "      a.click();\n",
              "      div.remove();\n",
              "    }\n",
              "  "
            ]
          },
          "metadata": {}
        },
        {
          "output_type": "display_data",
          "data": {
            "text/plain": [
              "<IPython.core.display.Javascript object>"
            ],
            "application/javascript": [
              "download(\"download_1cd8f864-0dca-4cf6-a479-57573825205f\", \"ResNet50_model.keras\", 210191864)"
            ]
          },
          "metadata": {}
        }
      ]
    }
  ],
  "metadata": {
    "accelerator": "GPU",
    "colab": {
      "gpuType": "T4",
      "provenance": []
    },
    "kernelspec": {
      "display_name": "Python 3",
      "name": "python3"
    },
    "language_info": {
      "codemirror_mode": {
        "name": "ipython",
        "version": 3
      },
      "file_extension": ".py",
      "mimetype": "text/x-python",
      "name": "python",
      "nbconvert_exporter": "python",
      "pygments_lexer": "ipython3",
      "version": "3.11.3"
    }
  },
  "nbformat": 4,
  "nbformat_minor": 5
}